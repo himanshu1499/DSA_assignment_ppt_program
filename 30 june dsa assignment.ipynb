{
 "cells": [
  {
   "cell_type": "code",
   "execution_count": 1,
   "id": "0c79f1f3-0a77-438f-9441-4a841b839462",
   "metadata": {},
   "outputs": [],
   "source": [
    "#Q1 "
   ]
  },
  {
   "cell_type": "code",
   "execution_count": 2,
   "id": "16fa0b8e-02ea-45fa-9f20-fe2416fb368d",
   "metadata": {},
   "outputs": [],
   "source": [
    "#Time complexity: O(m * n)\n",
    "#Space complexity: O(m * n)\n",
    "\n",
    "def convertTo2DArray(original, m, n):\n",
    "    if len(original) != m * n:\n",
    "        return []\n",
    "\n",
    "    result = [[0] * n for _ in range(m)]\n",
    "\n",
    "    for i in range(m * n):\n",
    "        row = i // n\n",
    "        col = i % n\n",
    "        result[row][col] = original[i]\n",
    "\n",
    "    return result\n",
    "\n",
    "\n"
   ]
  },
  {
   "cell_type": "code",
   "execution_count": 3,
   "id": "1cca191f-0f3e-4a9d-9b5d-eb04f6f4d56b",
   "metadata": {},
   "outputs": [
    {
     "name": "stdout",
     "output_type": "stream",
     "text": [
      "[[1, 2], [3, 4]]\n"
     ]
    }
   ],
   "source": [
    "original = [1, 2, 3, 4]\n",
    "m = 2\n",
    "n = 2\n",
    "print(convertTo2DArray(original, m, n)) "
   ]
  },
  {
   "cell_type": "code",
   "execution_count": null,
   "id": "5a087000-60a3-4157-9153-c814e7bc29cb",
   "metadata": {},
   "outputs": [],
   "source": [
    "#Q2"
   ]
  },
  {
   "cell_type": "code",
   "execution_count": 4,
   "id": "2f91b369-2657-4369-a5f9-08c34cf35584",
   "metadata": {},
   "outputs": [],
   "source": [
    "#Time complexity: O(log n)\n",
    "#Space complexity: O(1)\n",
    "\n",
    "def arrangeCoins(n):\n",
    "    left = 0\n",
    "    right = n\n",
    "\n",
    "    while left <= right:\n",
    "        mid = left + (right - left) // 2\n",
    "        sum_mid = mid * (mid + 1) // 2\n",
    "\n",
    "        if sum_mid <= n:\n",
    "            left = mid + 1\n",
    "        else:\n",
    "            right = mid - 1\n",
    "\n",
    "    return right"
   ]
  },
  {
   "cell_type": "code",
   "execution_count": 5,
   "id": "524658aa-be46-49f6-80de-e10308573ed0",
   "metadata": {},
   "outputs": [
    {
     "name": "stdout",
     "output_type": "stream",
     "text": [
      "2\n"
     ]
    }
   ],
   "source": [
    "n = 5\n",
    "print(arrangeCoins(n))"
   ]
  },
  {
   "cell_type": "code",
   "execution_count": null,
   "id": "698bd25c-f42a-42db-a994-9b98e109b49b",
   "metadata": {},
   "outputs": [],
   "source": [
    "#Q3"
   ]
  },
  {
   "cell_type": "code",
   "execution_count": 6,
   "id": "5446da27-f9d7-4656-8862-b973f6b36d36",
   "metadata": {},
   "outputs": [],
   "source": [
    "#Time complexity: O(n)\n",
    "#Space complexity: O(n)\n",
    "\n",
    "\n",
    "def sortedSquares(nums):\n",
    "    left = 0\n",
    "    right = len(nums) - 1\n",
    "    result = []\n",
    "\n",
    "    while left <= right:\n",
    "        left_square = nums[left] * nums[left]\n",
    "        right_square = nums[right] * nums[right]\n",
    "\n",
    "        if left_square > right_square:\n",
    "            result.append(left_square)\n",
    "            left += 1\n",
    "        else:\n",
    "            result.append(right_square)\n",
    "            right -= 1\n",
    "\n",
    "    return result[::-1]"
   ]
  },
  {
   "cell_type": "code",
   "execution_count": 7,
   "id": "3ddfc928-ad40-4a07-9ef2-0eebbfe5ae93",
   "metadata": {},
   "outputs": [
    {
     "name": "stdout",
     "output_type": "stream",
     "text": [
      "[0, 1, 9, 16, 100]\n"
     ]
    }
   ],
   "source": [
    "nums = [-4, -1, 0, 3, 10]\n",
    "print(sortedSquares(nums))"
   ]
  },
  {
   "cell_type": "code",
   "execution_count": null,
   "id": "98947aa7-2208-4c0c-a600-37daba3556b8",
   "metadata": {},
   "outputs": [],
   "source": [
    "#Q4"
   ]
  },
  {
   "cell_type": "code",
   "execution_count": 8,
   "id": "a1936a86-53cf-4326-bf3c-db5750ecd220",
   "metadata": {},
   "outputs": [],
   "source": [
    "#Time complexity: O(m + n)\n",
    "#Space complexity: O(m + n)\n",
    "\n",
    "\n",
    "def findDisappearedNumbers(nums1, nums2):\n",
    "    set1 = set(nums1)\n",
    "    set2 = set(nums2)\n",
    "\n",
    "    answer = [list(set1 - set2), list(set2 - set1)]\n",
    "    return answer"
   ]
  },
  {
   "cell_type": "code",
   "execution_count": 9,
   "id": "5fb5f6b7-dc63-4fac-9a26-a9dba6e71cb6",
   "metadata": {},
   "outputs": [
    {
     "name": "stdout",
     "output_type": "stream",
     "text": [
      "[[1, 3], [4, 6]]\n"
     ]
    }
   ],
   "source": [
    "nums1 = [1, 2, 3]\n",
    "nums2 = [2, 4, 6]\n",
    "print(findDisappearedNumbers(nums1, nums2)) "
   ]
  },
  {
   "cell_type": "code",
   "execution_count": null,
   "id": "ead98bdc-bb13-4ecb-b7e3-40157b64799e",
   "metadata": {},
   "outputs": [],
   "source": [
    "#Q5"
   ]
  },
  {
   "cell_type": "code",
   "execution_count": 10,
   "id": "01c3c034-1e28-470e-98af-38561f75c920",
   "metadata": {},
   "outputs": [],
   "source": [
    "#Time complexity: O(n * m)\n",
    "#Space complexity: O(1)\n",
    "\n",
    "def findTheDistanceValue(arr1, arr2, d):\n",
    "    count = 0\n",
    "\n",
    "    for num1 in arr1:\n",
    "        found = False\n",
    "\n",
    "        for num2 in arr2:\n",
    "            if abs(num1 - num2) <= d:\n",
    "                found = True\n",
    "                break\n",
    "\n",
    "        if not found:\n",
    "            count += 1\n",
    "\n",
    "    return count\n"
   ]
  },
  {
   "cell_type": "code",
   "execution_count": 11,
   "id": "7add22df-94c7-40b4-86ef-cadd55ed771e",
   "metadata": {},
   "outputs": [
    {
     "name": "stdout",
     "output_type": "stream",
     "text": [
      "2\n"
     ]
    }
   ],
   "source": [
    "arr1 = [4, 5, 8]\n",
    "arr2 = [10, 9, 1, 8]\n",
    "d = 2\n",
    "print(findTheDistanceValue(arr1, arr2, d))"
   ]
  },
  {
   "cell_type": "code",
   "execution_count": null,
   "id": "342e902d-694c-4293-8949-e42af2636651",
   "metadata": {},
   "outputs": [],
   "source": [
    "#Q6"
   ]
  },
  {
   "cell_type": "code",
   "execution_count": 12,
   "id": "e8d811f8-ccee-45f8-b4b5-27125e47ea15",
   "metadata": {},
   "outputs": [],
   "source": [
    "#Time complexity: O(n)\n",
    "#Space complexity: O(1)\n",
    "\n",
    "def findDuplicates(nums):\n",
    "    result = []\n",
    "\n",
    "    for num in nums:\n",
    "        num = abs(num)\n",
    "        if nums[num - 1] > 0:\n",
    "            nums[num - 1] *= -1\n",
    "        else:\n",
    "            result.append(num)\n",
    "\n",
    "    return result\n"
   ]
  },
  {
   "cell_type": "code",
   "execution_count": 13,
   "id": "b9f5b1d8-ce15-4531-b4d2-411d3bbbe3a3",
   "metadata": {},
   "outputs": [
    {
     "name": "stdout",
     "output_type": "stream",
     "text": [
      "[2, 3]\n"
     ]
    }
   ],
   "source": [
    "nums = [4, 3, 2, 7, 8, 2, 3, 1]\n",
    "print(findDuplicates(nums))  "
   ]
  },
  {
   "cell_type": "code",
   "execution_count": null,
   "id": "8c746fc8-be20-40d6-b8a5-3d9fbd38d232",
   "metadata": {},
   "outputs": [],
   "source": [
    "#Q7"
   ]
  },
  {
   "cell_type": "code",
   "execution_count": 14,
   "id": "f1eee393-0851-4d73-adc4-b00e99210a4c",
   "metadata": {},
   "outputs": [],
   "source": [
    "#Time complexity: O(log n)\n",
    "#Space complexity: O(1)\n",
    "\n",
    "def findMin(nums):\n",
    "    left, right = 0, len(nums) - 1\n",
    "\n",
    "    while left < right:\n",
    "        mid = (left + right) // 2\n",
    "\n",
    "        if nums[mid] > nums[right]:\n",
    "            left = mid + 1\n",
    "        else:\n",
    "            right = mid\n",
    "\n",
    "    return nums[left]"
   ]
  },
  {
   "cell_type": "code",
   "execution_count": 15,
   "id": "d0363f00-309f-44ea-8157-bd25ad824201",
   "metadata": {},
   "outputs": [
    {
     "name": "stdout",
     "output_type": "stream",
     "text": [
      "1\n"
     ]
    }
   ],
   "source": [
    "nums = [3, 4, 5, 1, 2]\n",
    "print(findMin(nums))"
   ]
  },
  {
   "cell_type": "code",
   "execution_count": null,
   "id": "c116b13d-af43-4666-945c-4098448d734e",
   "metadata": {},
   "outputs": [],
   "source": [
    "#Q8"
   ]
  },
  {
   "cell_type": "code",
   "execution_count": 19,
   "id": "d6899eca-6926-492a-bef8-e478379a3025",
   "metadata": {},
   "outputs": [],
   "source": [
    "#Time complexity: O(n log n)\n",
    "#Space complexity: O(n)\n",
    "\n",
    "def findOriginalArray(changed):\n",
    "    if len(changed) % 2 != 0:\n",
    "        return []\n",
    "\n",
    "    changed.sort()\n",
    "    originalSet = set()\n",
    "\n",
    "    for num in changed:\n",
    "        half = num // 2\n",
    "        if half not in originalSet:\n",
    "            return []\n",
    "        originalSet.remove(half)\n",
    "\n",
    "    return list(originalSet)\n"
   ]
  },
  {
   "cell_type": "code",
   "execution_count": 20,
   "id": "0d912535-41e3-4c3d-9c8c-e8b4612460a0",
   "metadata": {},
   "outputs": [
    {
     "name": "stdout",
     "output_type": "stream",
     "text": [
      "[]\n"
     ]
    }
   ],
   "source": [
    "changed = [1, 3, 4, 2, 6, 8]\n",
    "print(findOriginalArray(changed)) "
   ]
  },
  {
   "cell_type": "code",
   "execution_count": null,
   "id": "742a5163-9700-4349-aca8-da9197afa9b5",
   "metadata": {},
   "outputs": [],
   "source": []
  },
  {
   "cell_type": "code",
   "execution_count": null,
   "id": "c1e392dd-795c-42dc-8423-154fb183a28c",
   "metadata": {},
   "outputs": [],
   "source": []
  },
  {
   "cell_type": "code",
   "execution_count": null,
   "id": "452b43c7-b2b7-42f8-96a0-a5241f6af5e8",
   "metadata": {},
   "outputs": [],
   "source": []
  },
  {
   "cell_type": "code",
   "execution_count": null,
   "id": "06999288-4883-4b59-8190-5d0d321008d3",
   "metadata": {},
   "outputs": [],
   "source": []
  }
 ],
 "metadata": {
  "kernelspec": {
   "display_name": "Python 3 (ipykernel)",
   "language": "python",
   "name": "python3"
  },
  "language_info": {
   "codemirror_mode": {
    "name": "ipython",
    "version": 3
   },
   "file_extension": ".py",
   "mimetype": "text/x-python",
   "name": "python",
   "nbconvert_exporter": "python",
   "pygments_lexer": "ipython3",
   "version": "3.10.6"
  }
 },
 "nbformat": 4,
 "nbformat_minor": 5
}
