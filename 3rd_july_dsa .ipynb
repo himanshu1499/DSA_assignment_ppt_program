{
 "cells": [
  {
   "cell_type": "code",
   "execution_count": 1,
   "id": "41614a5a-c6af-4ddd-b9df-ba672f85d8fc",
   "metadata": {},
   "outputs": [],
   "source": [
    "#Q1"
   ]
  },
  {
   "cell_type": "code",
   "execution_count": 3,
   "id": "6fed8eea-7b58-46d9-ac9f-79a2b2ada1fa",
   "metadata": {},
   "outputs": [],
   "source": [
    "#Time complexity: O(n) \n",
    "#Space complexity: O(1)\n",
    "\n",
    "\n",
    "def isIsomorphic(s, t):\n",
    "    if len(s) != len(t):\n",
    "        return False\n",
    "\n",
    "    char_map = {}\n",
    "    used_chars = set()\n",
    "\n",
    "    for i in range(len(s)):\n",
    "        char_s = s[i]\n",
    "        char_t = t[i]\n",
    "\n",
    "        if char_s in char_map:\n",
    "            if char_map[char_s] != char_t:\n",
    "                return False\n",
    "        else:\n",
    "            if char_t in used_chars:\n",
    "                return False\n",
    "            char_map[char_s] = char_t\n",
    "            used_chars.add(char_t)\n",
    "\n",
    "    return True\n"
   ]
  },
  {
   "cell_type": "code",
   "execution_count": 4,
   "id": "27fd55f6-d83b-4b57-9b6c-ca0a52a673b4",
   "metadata": {},
   "outputs": [],
   "source": [
    "#Q2"
   ]
  },
  {
   "cell_type": "code",
   "execution_count": 5,
   "id": "dc996689-76cf-4fad-801a-5b1ec7bce578",
   "metadata": {},
   "outputs": [],
   "source": [
    "#Time complexity: O(n) \n",
    "#Space complexity: O(1)\n",
    "\n",
    "def isStrobogrammatic(num):\n",
    "    strobogrammatic_pairs = {\n",
    "        '0': '0',\n",
    "        '1': '1',\n",
    "        '6': '9',\n",
    "        '8': '8',\n",
    "        '9': '6'\n",
    "    }\n",
    "\n",
    "    left, right = 0, len(num) - 1\n",
    "\n",
    "    while left <= right:\n",
    "        if num[left] not in strobogrammatic_pairs or num[right] != strobogrammatic_pairs[num[left]]:\n",
    "            return False\n",
    "        left += 1\n",
    "        right -= 1\n",
    "\n",
    "    return True\n"
   ]
  },
  {
   "cell_type": "code",
   "execution_count": null,
   "id": "a3f12e27-3f23-4d4e-bfca-d9e22f61428b",
   "metadata": {},
   "outputs": [],
   "source": [
    "#Q3 "
   ]
  },
  {
   "cell_type": "code",
   "execution_count": 6,
   "id": "6a05f0ba-fe0a-4e14-aa65-7c673309fe96",
   "metadata": {},
   "outputs": [],
   "source": [
    "#Time complexity: O(max(N, M))\n",
    "#Space complexity:O(max(N, M))\n",
    "\n",
    "def addStrings(num1, num2):\n",
    "    result = \"\"\n",
    "    i, j = len(num1) - 1, len(num2) - 1\n",
    "    carry = 0\n",
    "\n",
    "    while i >= 0 or j >= 0 or carry > 0:\n",
    "        digit1 = int(num1[i]) if i >= 0 else 0\n",
    "        digit2 = int(num2[j]) if j >= 0 else 0\n",
    "        total = digit1 + digit2 + carry\n",
    "        result = str(total % 10) + result\n",
    "        carry = total // 10\n",
    "        i -= 1\n",
    "        j -= 1\n",
    "\n",
    "    if carry > 0:\n",
    "        result = str(carry) + result\n",
    "\n",
    "    return result\n"
   ]
  },
  {
   "cell_type": "code",
   "execution_count": null,
   "id": "eecee218-eaab-47d1-8929-e5c1198421cb",
   "metadata": {},
   "outputs": [],
   "source": [
    "#Q4"
   ]
  },
  {
   "cell_type": "code",
   "execution_count": 7,
   "id": "5c11d841-4aab-4716-826a-8d2a9f9a9359",
   "metadata": {},
   "outputs": [],
   "source": [
    "#Time complexity: O(N) \n",
    "#Space complexity: O(N)\n",
    "\n",
    "def reverseWords(s):\n",
    "    words = s.split()  # Split the sentence into words\n",
    "    reversed_words = [word[::-1] for word in words]  # Reverse each word\n",
    "\n",
    "    return ' '.join(reversed_words)  # Join the reversed words back together\n",
    "\n"
   ]
  },
  {
   "cell_type": "code",
   "execution_count": null,
   "id": "51522466-262f-4d6f-a839-da7822125981",
   "metadata": {},
   "outputs": [],
   "source": [
    "#Q5"
   ]
  },
  {
   "cell_type": "code",
   "execution_count": 8,
   "id": "bac8a042-cf32-45e4-92a0-8a328dd94ff2",
   "metadata": {},
   "outputs": [],
   "source": [
    "#Time complexity: O(N)\n",
    "#Space complexity:O(N)\n",
    "\n",
    "def reverseStr(s, k):\n",
    "    char_list = list(s)  # Convert the string to a list of characters\n",
    "    n = len(char_list)  # Length of the string\n",
    "    i = 0  # Iteration pointer\n",
    "\n",
    "    while i < n:\n",
    "        left = i\n",
    "        right = min(i + k - 1, n - 1)  # Index of the rightmost character to reverse\n",
    "\n",
    "        # Reverse the characters in the current portion\n",
    "        while left < right:\n",
    "            char_list[left], char_list[right] = char_list[right], char_list[left]\n",
    "            left += 1\n",
    "            right -= 1\n",
    "\n",
    "        i += 2 * k  # Move the iteration pointer forward by 2k positions\n",
    "\n",
    "    return ''.join(char_list)  # Convert the list of characters back to a string\n"
   ]
  },
  {
   "cell_type": "code",
   "execution_count": null,
   "id": "50fdca5d-5252-4a98-aa42-d7a5e1fa2a67",
   "metadata": {},
   "outputs": [],
   "source": [
    "#Q6"
   ]
  },
  {
   "cell_type": "code",
   "execution_count": 9,
   "id": "9c2ab247-e158-4730-9b7a-6b008a3d4ee7",
   "metadata": {},
   "outputs": [],
   "source": [
    "def rotateString(s, goal):\n",
    "    if len(s) != len(goal):\n",
    "        return False\n",
    "    return goal in (s + s)\n"
   ]
  },
  {
   "cell_type": "code",
   "execution_count": null,
   "id": "36c6b621-6d44-4644-a66c-dd8813e57930",
   "metadata": {},
   "outputs": [],
   "source": [
    "#Q7"
   ]
  },
  {
   "cell_type": "code",
   "execution_count": 10,
   "id": "881d3935-df53-4600-856c-424b9b984abf",
   "metadata": {},
   "outputs": [],
   "source": [
    "def backspaceCompare(s, t):\n",
    "    def buildString(string):\n",
    "        result = []\n",
    "        for char in string:\n",
    "            if char != '#':\n",
    "                result.append(char)\n",
    "            elif result:\n",
    "                result.pop()\n",
    "        return ''.join(result)\n",
    "\n",
    "    return buildString(s) == buildString(t)\n"
   ]
  },
  {
   "cell_type": "code",
   "execution_count": null,
   "id": "896e9cde-3eb2-4924-8000-ea05b2eb8208",
   "metadata": {},
   "outputs": [],
   "source": [
    "#Q8"
   ]
  },
  {
   "cell_type": "code",
   "execution_count": 11,
   "id": "982e2a90-def9-4f98-8ce8-ddc2594ec0ac",
   "metadata": {},
   "outputs": [],
   "source": [
    "def checkStraightLine(coordinates):\n",
    "    if len(coordinates) <= 2:\n",
    "        return True\n",
    "\n",
    "    x0, y0 = coordinates[0]\n",
    "    x1, y1 = coordinates[1]\n",
    "    for i in range(2, len(coordinates)):\n",
    "        x, y = coordinates[i]\n",
    "        if (y1 - y0) * (x - x0) != (x1 - x0) * (y - y0):\n",
    "            return False\n",
    "\n",
    "    return True\n"
   ]
  },
  {
   "cell_type": "code",
   "execution_count": null,
   "id": "9b7b39aa-fe49-4089-9d9c-98d8c69cb1fc",
   "metadata": {},
   "outputs": [],
   "source": []
  },
  {
   "cell_type": "code",
   "execution_count": null,
   "id": "93055740-6799-4723-8dd7-188a059f4649",
   "metadata": {},
   "outputs": [],
   "source": []
  },
  {
   "cell_type": "code",
   "execution_count": null,
   "id": "cb4e2aee-d516-43ec-9fa2-83ea57175e38",
   "metadata": {},
   "outputs": [],
   "source": []
  },
  {
   "cell_type": "code",
   "execution_count": null,
   "id": "c86abde2-17ab-4d06-a923-821aff7c5217",
   "metadata": {},
   "outputs": [],
   "source": []
  },
  {
   "cell_type": "code",
   "execution_count": null,
   "id": "a01cb637-8dc5-4a63-aa7e-8652cb184cf8",
   "metadata": {},
   "outputs": [],
   "source": []
  },
  {
   "cell_type": "code",
   "execution_count": null,
   "id": "d4e17741-6492-43d6-b6b2-e5e92e867c80",
   "metadata": {},
   "outputs": [],
   "source": []
  }
 ],
 "metadata": {
  "kernelspec": {
   "display_name": "Python 3 (ipykernel)",
   "language": "python",
   "name": "python3"
  },
  "language_info": {
   "codemirror_mode": {
    "name": "ipython",
    "version": 3
   },
   "file_extension": ".py",
   "mimetype": "text/x-python",
   "name": "python",
   "nbconvert_exporter": "python",
   "pygments_lexer": "ipython3",
   "version": "3.10.6"
  }
 },
 "nbformat": 4,
 "nbformat_minor": 5
}
