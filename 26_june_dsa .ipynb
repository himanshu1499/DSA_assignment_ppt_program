{
 "cells": [
  {
   "cell_type": "code",
   "execution_count": 1,
   "id": "02173831-e506-40b1-85e4-4aa9405d7526",
   "metadata": {},
   "outputs": [],
   "source": [
    "#Q1 "
   ]
  },
  {
   "cell_type": "code",
   "execution_count": 3,
   "id": "755e77b1-47d6-4b8a-9941-b6d3c8f9d081",
   "metadata": {},
   "outputs": [],
   "source": [
    "def arrayPairSum(nums):\n",
    "    nums.sort()  # Sort the array in ascending order\n",
    "    pair_sum = 0\n",
    "\n",
    "    for i in range(0, len(nums), 2):\n",
    "        pair_sum += nums[i]\n",
    "\n",
    "    return pair_sum\n"
   ]
  },
  {
   "cell_type": "code",
   "execution_count": 4,
   "id": "3f4a2539-0535-4ce1-a5b8-ba0e697d4550",
   "metadata": {},
   "outputs": [
    {
     "name": "stdout",
     "output_type": "stream",
     "text": [
      "4\n"
     ]
    }
   ],
   "source": [
    "#example \n",
    "nums = [1, 4, 3, 2]\n",
    "print(arrayPairSum(nums))"
   ]
  },
  {
   "cell_type": "code",
   "execution_count": null,
   "id": "8f6e17dd-1084-4cee-9007-659d38d85734",
   "metadata": {},
   "outputs": [],
   "source": [
    "#Q2"
   ]
  },
  {
   "cell_type": "code",
   "execution_count": 5,
   "id": "9ca793e3-1426-4597-9a0a-fe1980fe1be2",
   "metadata": {},
   "outputs": [],
   "source": [
    "def distributeCandies(candyType):\n",
    "    max_candies = len(candyType) // 2\n",
    "    unique_candies = set()\n",
    "\n",
    "    for candy in candyType:\n",
    "        unique_candies.add(candy)\n",
    "        if len(unique_candies) == max_candies:\n",
    "            break\n",
    "\n",
    "    return len(unique_candies)\n"
   ]
  },
  {
   "cell_type": "code",
   "execution_count": 6,
   "id": "5161990e-1512-4ce7-85da-29a8406c38a9",
   "metadata": {},
   "outputs": [
    {
     "name": "stdout",
     "output_type": "stream",
     "text": [
      "3\n"
     ]
    }
   ],
   "source": [
    "candyType = [1, 1, 2, 2, 3, 3]\n",
    "print(distributeCandies(candyType))"
   ]
  },
  {
   "cell_type": "code",
   "execution_count": null,
   "id": "2eb44e1b-055b-4e99-85a6-74f98c4008ce",
   "metadata": {},
   "outputs": [],
   "source": [
    "#Q3"
   ]
  },
  {
   "cell_type": "code",
   "execution_count": 7,
   "id": "80dfb8ef-60ea-478b-bc02-c046ff19222a",
   "metadata": {},
   "outputs": [],
   "source": [
    "def findLHS(nums):\n",
    "    num_count = {}\n",
    "    max_length = 0\n",
    "\n",
    "    # Count the frequency of each number\n",
    "    for num in nums:\n",
    "        if num in num_count:\n",
    "            num_count[num] += 1\n",
    "        else:\n",
    "            num_count[num] = 1\n",
    "\n",
    "    # Find the length of the longest harmonious subsequence\n",
    "    for num in num_count:\n",
    "        if num + 1 in num_count:\n",
    "            curr_length = num_count[num] + num_count[num + 1]\n",
    "            if curr_length > max_length:\n",
    "                max_length = curr_length\n",
    "\n",
    "    return max_length\n"
   ]
  },
  {
   "cell_type": "code",
   "execution_count": 8,
   "id": "e1a11dab-d533-43b3-88c2-de8bc2f3c848",
   "metadata": {},
   "outputs": [
    {
     "name": "stdout",
     "output_type": "stream",
     "text": [
      "5\n"
     ]
    }
   ],
   "source": [
    "nums = [1, 3, 2, 2, 5, 2, 3, 7]\n",
    "print(findLHS(nums))"
   ]
  },
  {
   "cell_type": "code",
   "execution_count": 9,
   "id": "e6accccf-0787-4c91-b573-cfe44afb6780",
   "metadata": {},
   "outputs": [],
   "source": [
    "#Q4"
   ]
  },
  {
   "cell_type": "code",
   "execution_count": 10,
   "id": "5cfbd68f-7c33-4fa6-acf2-df7cec95018d",
   "metadata": {},
   "outputs": [],
   "source": [
    "def canPlaceFlowers(flowerbed, n):\n",
    "    count = 0\n",
    "    length = len(flowerbed)\n",
    "    i = 0\n",
    "\n",
    "    while i < length:\n",
    "        if flowerbed[i] == 0 and (i == 0 or flowerbed[i - 1] == 0) and (i == length - 1 or flowerbed[i + 1] == 0):\n",
    "            flowerbed[i] = 1\n",
    "            count += 1\n",
    "        i += 1\n",
    "\n",
    "    return count >= n\n"
   ]
  },
  {
   "cell_type": "code",
   "execution_count": 11,
   "id": "65a2054b-62f1-48b9-b61b-b145287fab5b",
   "metadata": {},
   "outputs": [
    {
     "name": "stdout",
     "output_type": "stream",
     "text": [
      "True\n"
     ]
    }
   ],
   "source": [
    "flowerbed = [1, 0, 0, 0, 1]\n",
    "n = 1\n",
    "print(canPlaceFlowers(flowerbed, n))"
   ]
  },
  {
   "cell_type": "code",
   "execution_count": 12,
   "id": "007477d5-937d-4500-a30d-c645420c04d5",
   "metadata": {},
   "outputs": [],
   "source": [
    "#Q5"
   ]
  },
  {
   "cell_type": "code",
   "execution_count": 13,
   "id": "448ddbbb-cc20-40a6-bb15-688305075d3e",
   "metadata": {},
   "outputs": [],
   "source": [
    "def maximumProduct(nums):\n",
    "    nums.sort()  # Sort the array in ascending order\n",
    "    product1 = nums[-1] * nums[-2] * nums[-3]\n",
    "    product2 = nums[0] * nums[1] * nums[-1]\n",
    "    return max(product1, product2)\n"
   ]
  },
  {
   "cell_type": "code",
   "execution_count": 14,
   "id": "65cc12ad-c8a8-450f-9751-e178e61f4d03",
   "metadata": {},
   "outputs": [
    {
     "name": "stdout",
     "output_type": "stream",
     "text": [
      "6\n"
     ]
    }
   ],
   "source": [
    "nums = [1, 2, 3]\n",
    "print(maximumProduct(nums))"
   ]
  },
  {
   "cell_type": "code",
   "execution_count": 15,
   "id": "70d3d514-5906-4e40-869b-8f55d123edbf",
   "metadata": {},
   "outputs": [],
   "source": [
    "#Q6"
   ]
  },
  {
   "cell_type": "code",
   "execution_count": 16,
   "id": "827bb0df-6a5b-4b48-a0fe-1a3ab482ef70",
   "metadata": {},
   "outputs": [],
   "source": [
    "def search(nums, target):\n",
    "    left = 0\n",
    "    right = len(nums) - 1\n",
    "\n",
    "    while left <= right:\n",
    "        mid = (left + right) // 2\n",
    "        if nums[mid] == target:\n",
    "            return mid\n",
    "        elif nums[mid] > target:\n",
    "            right = mid - 1\n",
    "        else:\n",
    "            left = mid + 1\n",
    "\n",
    "    return -1\n"
   ]
  },
  {
   "cell_type": "code",
   "execution_count": 17,
   "id": "715ae8fb-0664-4dc2-8b60-54259d5691b4",
   "metadata": {},
   "outputs": [
    {
     "name": "stdout",
     "output_type": "stream",
     "text": [
      "4\n"
     ]
    }
   ],
   "source": [
    "nums = [-1, 0, 3, 5, 9, 12]\n",
    "target = 9\n",
    "print(search(nums, target))"
   ]
  },
  {
   "cell_type": "code",
   "execution_count": 18,
   "id": "9cb64185-6087-4200-8b1e-d7d7592e3972",
   "metadata": {},
   "outputs": [],
   "source": [
    "#Q7"
   ]
  },
  {
   "cell_type": "code",
   "execution_count": 19,
   "id": "12248276-d72c-4370-8a4d-23f0c9def0cf",
   "metadata": {},
   "outputs": [],
   "source": [
    "def isMonotonic(nums):\n",
    "    increasing = True\n",
    "    decreasing = True\n",
    "\n",
    "    for i in range(1, len(nums)):\n",
    "        if nums[i] > nums[i - 1]:\n",
    "            decreasing = False\n",
    "        elif nums[i] < nums[i - 1]:\n",
    "            increasing = False\n",
    "\n",
    "        if not increasing and not decreasing:\n",
    "            return False\n",
    "\n",
    "    return True\n"
   ]
  },
  {
   "cell_type": "code",
   "execution_count": 20,
   "id": "86fe5fa8-1e9b-48a3-82b2-f6035e0e0b7f",
   "metadata": {},
   "outputs": [
    {
     "name": "stdout",
     "output_type": "stream",
     "text": [
      "True\n"
     ]
    }
   ],
   "source": [
    "nums = [1, 2, 2, 3]\n",
    "print(isMonotonic(nums))"
   ]
  },
  {
   "cell_type": "code",
   "execution_count": 21,
   "id": "bbbda019-044b-4513-8eec-5de74128ac7f",
   "metadata": {},
   "outputs": [],
   "source": [
    "#Q8"
   ]
  },
  {
   "cell_type": "code",
   "execution_count": null,
   "id": "a72b7c0c-a98f-4fcf-bca6-3258a8f7d869",
   "metadata": {},
   "outputs": [],
   "source": []
  }
 ],
 "metadata": {
  "kernelspec": {
   "display_name": "Python 3 (ipykernel)",
   "language": "python",
   "name": "python3"
  },
  "language_info": {
   "codemirror_mode": {
    "name": "ipython",
    "version": 3
   },
   "file_extension": ".py",
   "mimetype": "text/x-python",
   "name": "python",
   "nbconvert_exporter": "python",
   "pygments_lexer": "ipython3",
   "version": "3.10.6"
  }
 },
 "nbformat": 4,
 "nbformat_minor": 5
}
