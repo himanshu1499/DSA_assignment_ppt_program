{
 "cells": [
  {
   "cell_type": "code",
   "execution_count": 1,
   "id": "b8670c4c-e69e-4ce9-895c-645f8c0bbb8e",
   "metadata": {},
   "outputs": [],
   "source": [
    "#Q8 "
   ]
  },
  {
   "cell_type": "code",
   "execution_count": 2,
   "id": "406dbe11-ced8-48c8-b1bb-a6d1ac06505f",
   "metadata": {},
   "outputs": [],
   "source": [
    "def buddyStrings(s, goal):\n",
    "    if len(s) != len(goal) or set(s) != set(goal):\n",
    "        return False\n",
    "\n",
    "    if s == goal:\n",
    "        return len(set(s)) < len(s)\n",
    "\n",
    "    indices = []\n",
    "    for i in range(len(s)):\n",
    "        if s[i] != goal[i]:\n",
    "            indices.append(i)\n",
    "\n",
    "    return len(indices) == 2 and s[indices[0]] == goal[indices[1]] and s[indices[1]] == goal[indices[0]]\n"
   ]
  },
  {
   "cell_type": "code",
   "execution_count": null,
   "id": "400eef07-7a77-45eb-913f-c6c656b7c6a2",
   "metadata": {},
   "outputs": [],
   "source": [
    "#Q7"
   ]
  },
  {
   "cell_type": "code",
   "execution_count": 3,
   "id": "58ad573d-79e9-489f-a3ce-e6f7014ef45c",
   "metadata": {},
   "outputs": [],
   "source": [
    "# time complexity : O(n)\n",
    "# space complexity: O(n) \n",
    "\n",
    "def decodeString(s):\n",
    "    stack = []\n",
    "    current_string = \"\"\n",
    "    current_num = 0\n",
    "\n",
    "    for char in s:\n",
    "        if char.isdigit():\n",
    "            current_num = current_num * 10 + int(char)\n",
    "        elif char == '[':\n",
    "            stack.append((current_string, current_num))\n",
    "            current_string = \"\"\n",
    "            current_num = 0\n",
    "        elif char == ']':\n",
    "            prev_string, num = stack.pop()\n",
    "            current_string = prev_string + current_string * num\n",
    "        else:\n",
    "            current_string += char\n",
    "\n",
    "    return current_string\n"
   ]
  },
  {
   "cell_type": "code",
   "execution_count": null,
   "id": "f712c9b5-cde7-4044-b972-24bad5c74a6a",
   "metadata": {},
   "outputs": [],
   "source": [
    "#Q6"
   ]
  },
  {
   "cell_type": "code",
   "execution_count": 4,
   "id": "96709fd4-b08a-453b-ba84-f25ec4997a60",
   "metadata": {},
   "outputs": [],
   "source": [
    "# time complexity : O(n)\n",
    "# space complexity: O(1) \n",
    "\n",
    "from collections import Counter\n",
    "\n",
    "def findAnagrams(s, p):\n",
    "    result = []\n",
    "    p_count = Counter(p)\n",
    "    s_count = Counter(s[:len(p)])\n",
    "\n",
    "    if s_count == p_count:\n",
    "        result.append(0)\n",
    "\n",
    "    for i in range(len(p), len(s)):\n",
    "        if s_count[s[i - len(p)]] == 1:\n",
    "            del s_count[s[i - len(p)]]\n",
    "        else:\n",
    "            s_count[s[i - len(p)]] -= 1\n",
    "\n",
    "        s_count[s[i]] += 1\n",
    "\n",
    "        if s_count == p_count:\n",
    "            result.append(i - len(p) + 1)\n",
    "\n",
    "    return result\n"
   ]
  },
  {
   "cell_type": "code",
   "execution_count": null,
   "id": "0c1203ba-41fa-46c4-b378-5be8ce2db9c3",
   "metadata": {},
   "outputs": [],
   "source": [
    "#Q5\n"
   ]
  },
  {
   "cell_type": "code",
   "execution_count": 5,
   "id": "f619f137-fc7a-4fe1-86a4-13366225a349",
   "metadata": {},
   "outputs": [],
   "source": [
    "# time complexity : O(n)\n",
    "# space complexity: O(1) \n",
    "\n",
    "def compress(chars):\n",
    "    write = 0\n",
    "    count = 1\n",
    "\n",
    "    for read in range(1, len(chars) + 1):\n",
    "        if read < len(chars) and chars[read] == chars[read - 1]:\n",
    "            count += 1\n",
    "        else:\n",
    "            chars[write] = chars[read - 1]\n",
    "            write += 1\n",
    "\n",
    "            if count > 1:\n",
    "                count_str = str(count)\n",
    "                for digit in count_str:\n",
    "                    chars[write] = digit\n",
    "                    write += 1\n",
    "\n",
    "            count = 1\n",
    "\n",
    "    return write\n"
   ]
  },
  {
   "cell_type": "code",
   "execution_count": null,
   "id": "b6cac4d4-09c3-4b41-b74e-861ec80f200e",
   "metadata": {},
   "outputs": [],
   "source": [
    "#Q4"
   ]
  },
  {
   "cell_type": "code",
   "execution_count": 6,
   "id": "4bc236e1-1773-4ac2-836e-b210b5f988d4",
   "metadata": {},
   "outputs": [],
   "source": [
    "# time complexity : O(n)\n",
    "# space complexity: O(n) \n",
    "\n",
    "class TreeNode:\n",
    "    def __init__(self, val=0, left=None, right=None):\n",
    "        self.val = val\n",
    "        self.left = left\n",
    "        self.right = right\n",
    "\n",
    "\n",
    "def buildTree(s):\n",
    "    if not s:\n",
    "        return None\n",
    "\n",
    "    # Find the first occurrence of '('\n",
    "    idx = s.find('(')\n",
    "\n",
    "    if idx == -1:\n",
    "        # No child nodes, so the entire string represents a single node\n",
    "        return TreeNode(int(s))\n",
    "\n",
    "    # The value of the root node is before '('\n",
    "    val = int(s[:idx])\n",
    "\n",
    "    # Find the indices of the substrings for the left and right subtrees\n",
    "    count = 0\n",
    "    for i in range(idx, len(s)):\n",
    "        if s[i] == '(':\n",
    "            count += 1\n",
    "        elif s[i] == ')':\n",
    "            count -= 1\n",
    "\n",
    "        # If count becomes 0, we have found the matching closing parenthesis\n",
    "        if count == 0:\n",
    "            break\n",
    "\n",
    "    # Extract the substrings for the left and right subtrees\n",
    "    left_subtree = s[idx + 1:i]\n",
    "    right_subtree = s[i + 2:-1]\n",
    "\n",
    "    # Recursively build the left and right subtrees\n",
    "    left = buildTree(left_subtree)\n",
    "    right = buildTree(right_subtree)\n",
    "\n",
    "    # Construct the root node with the left and right subtrees\n",
    "    root = TreeNode(val, left, right)\n",
    "    return root\n"
   ]
  },
  {
   "cell_type": "code",
   "execution_count": null,
   "id": "dcd4e3df-8d30-4633-aaef-26b952c83a19",
   "metadata": {},
   "outputs": [],
   "source": [
    "#Q3"
   ]
  },
  {
   "cell_type": "code",
   "execution_count": 7,
   "id": "564b3f52-afb3-4959-a6c1-7c5194b7d27f",
   "metadata": {},
   "outputs": [],
   "source": [
    "#time complexity :O(m * n)\n",
    "#space complexity : O(m * n)\n",
    "\n",
    "def minDistance(word1, word2):\n",
    "    m, n = len(word1), len(word2)\n",
    "\n",
    "    # Create a 2D dynamic programming table with (m+1) x (n+1) dimensions\n",
    "    dp = [[0] * (n + 1) for _ in range(m + 1)]\n",
    "\n",
    "    # Fill the first row and first column of the table\n",
    "    for i in range(m + 1):\n",
    "        dp[i][0] = i\n",
    "    for j in range(n + 1):\n",
    "        dp[0][j] = j\n",
    "\n",
    "    # Fill the remaining cells of the table\n",
    "    for i in range(1, m + 1):\n",
    "        for j in range(1, n + 1):\n",
    "            if word1[i - 1] == word2[j - 1]:\n",
    "                dp[i][j] = dp[i - 1][j - 1]\n",
    "            else:\n",
    "                dp[i][j] = min(dp[i - 1][j], dp[i][j - 1]) + 1\n",
    "\n",
    "    return dp[m][n]\n"
   ]
  },
  {
   "cell_type": "code",
   "execution_count": null,
   "id": "b5d3032e-0a6b-4ebf-87db-a5580e2e42b0",
   "metadata": {},
   "outputs": [],
   "source": [
    "#Q2 "
   ]
  },
  {
   "cell_type": "code",
   "execution_count": 8,
   "id": "30722d60-233d-4137-af36-e689328a5d51",
   "metadata": {},
   "outputs": [
    {
     "name": "stdout",
     "output_type": "stream",
     "text": [
      "True\n"
     ]
    }
   ],
   "source": [
    "# time complexity : O(n)\n",
    "# space complexity: O(n) \n",
    "\n",
    "\n",
    "def checkValidString(s):\n",
    "    stack = []\n",
    "    wildcard_stack = []\n",
    "\n",
    "    for c in s:\n",
    "        if c == '(':\n",
    "            stack.append(c)\n",
    "        elif c == '*':\n",
    "            wildcard_stack.append(c)\n",
    "        else:  # c == ')'\n",
    "            if stack:\n",
    "                stack.pop()\n",
    "            elif wildcard_stack:\n",
    "                wildcard_stack.pop()\n",
    "            else:\n",
    "                return False\n",
    "\n",
    "    while stack and wildcard_stack:\n",
    "        if stack[-1] > wildcard_stack[-1]:\n",
    "            return False\n",
    "        stack.pop()\n",
    "        wildcard_stack.pop()\n",
    "\n",
    "    return not stack\n",
    "\n",
    "\n",
    "# Example usage:\n",
    "s = \"((*)\"\n",
    "print(checkValidString(s))  # Output: True\n"
   ]
  },
  {
   "cell_type": "code",
   "execution_count": null,
   "id": "36eae8df-8195-47e7-ab16-1450019748f5",
   "metadata": {},
   "outputs": [],
   "source": [
    "#Q1"
   ]
  },
  {
   "cell_type": "code",
   "execution_count": 9,
   "id": "19d453bb-cc05-4dfb-a68e-79fba99ca0ad",
   "metadata": {},
   "outputs": [
    {
     "name": "stdout",
     "output_type": "stream",
     "text": [
      "231\n"
     ]
    }
   ],
   "source": [
    "# time complexity :O(m * n)\n",
    "# space complexity:O(m * n)\n",
    "\n",
    "def minimumDeleteSum(s1, s2):\n",
    "    m, n = len(s1), len(s2)\n",
    "\n",
    "    # Initialize a 2D table to store the minimum ASCII sum for each prefix\n",
    "    dp = [[0] * (n + 1) for _ in range(m + 1)]\n",
    "\n",
    "    # Fill the table from bottom-right to top-left\n",
    "    for i in range(m - 1, -1, -1):\n",
    "        dp[i][n] = dp[i + 1][n] + ord(s1[i])\n",
    "\n",
    "    for j in range(n - 1, -1, -1):\n",
    "        dp[m][j] = dp[m][j + 1] + ord(s2[j])\n",
    "\n",
    "    for i in range(m - 1, -1, -1):\n",
    "        for j in range(n - 1, -1, -1):\n",
    "            if s1[i] == s2[j]:\n",
    "                dp[i][j] = dp[i + 1][j + 1]\n",
    "            else:\n",
    "                dp[i][j] = min(dp[i + 1][j] + ord(s1[i]), dp[i][j + 1] + ord(s2[j]))\n",
    "\n",
    "    return dp[0][0]\n",
    "\n",
    "\n",
    "# Example usage:\n",
    "s1 = \"sea\"\n",
    "s2 = \"eat\"\n",
    "print(minimumDeleteSum(s1, s2))  # Output: 231\n"
   ]
  },
  {
   "cell_type": "code",
   "execution_count": null,
   "id": "320d22a4-d874-4f70-892c-17fc9c91fb35",
   "metadata": {},
   "outputs": [],
   "source": []
  },
  {
   "cell_type": "code",
   "execution_count": null,
   "id": "1d959667-eb1a-40bd-96f9-a6318e89f56e",
   "metadata": {},
   "outputs": [],
   "source": []
  },
  {
   "cell_type": "code",
   "execution_count": null,
   "id": "91e6d818-77ab-4657-88f7-02e2d27e0a06",
   "metadata": {},
   "outputs": [],
   "source": []
  },
  {
   "cell_type": "code",
   "execution_count": null,
   "id": "ab8e50f1-0b63-45b4-a573-143e74081159",
   "metadata": {},
   "outputs": [],
   "source": []
  },
  {
   "cell_type": "code",
   "execution_count": null,
   "id": "863c0a26-f1bb-4cb8-8d49-7394dad61dc7",
   "metadata": {},
   "outputs": [],
   "source": []
  },
  {
   "cell_type": "code",
   "execution_count": null,
   "id": "80877bf0-71ef-4920-bfa6-b95cea1b7bdc",
   "metadata": {},
   "outputs": [],
   "source": []
  },
  {
   "cell_type": "code",
   "execution_count": null,
   "id": "0f0421f8-d009-41ff-a276-99aea9c42bf8",
   "metadata": {},
   "outputs": [],
   "source": []
  },
  {
   "cell_type": "code",
   "execution_count": null,
   "id": "8fbdbbfd-0ba9-4470-933b-2d8ee778c311",
   "metadata": {},
   "outputs": [],
   "source": []
  },
  {
   "cell_type": "code",
   "execution_count": null,
   "id": "29c5af68-86db-40b6-9b94-29aef1c72e6d",
   "metadata": {},
   "outputs": [],
   "source": []
  },
  {
   "cell_type": "code",
   "execution_count": null,
   "id": "b6847592-f206-4868-88c0-f803f54cb285",
   "metadata": {},
   "outputs": [],
   "source": []
  },
  {
   "cell_type": "code",
   "execution_count": null,
   "id": "12b5e105-857c-40e2-9b97-df0cfe4b12c3",
   "metadata": {},
   "outputs": [],
   "source": []
  },
  {
   "cell_type": "code",
   "execution_count": null,
   "id": "32f27832-ce2a-4181-a288-abf29c6322f4",
   "metadata": {},
   "outputs": [],
   "source": []
  },
  {
   "cell_type": "code",
   "execution_count": null,
   "id": "7c3b1764-0317-4056-b925-cbe3d1ea3087",
   "metadata": {},
   "outputs": [],
   "source": []
  },
  {
   "cell_type": "code",
   "execution_count": null,
   "id": "3880ae17-f072-422a-b5ad-b3036577adfd",
   "metadata": {},
   "outputs": [],
   "source": []
  }
 ],
 "metadata": {
  "kernelspec": {
   "display_name": "Python 3 (ipykernel)",
   "language": "python",
   "name": "python3"
  },
  "language_info": {
   "codemirror_mode": {
    "name": "ipython",
    "version": 3
   },
   "file_extension": ".py",
   "mimetype": "text/x-python",
   "name": "python",
   "nbconvert_exporter": "python",
   "pygments_lexer": "ipython3",
   "version": "3.10.6"
  }
 },
 "nbformat": 4,
 "nbformat_minor": 5
}
