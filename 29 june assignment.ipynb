{
 "cells": [
  {
   "cell_type": "code",
   "execution_count": 1,
   "id": "9af5152d-5f20-4345-b2ba-bab0b288a55b",
   "metadata": {},
   "outputs": [],
   "source": [
    "#Q3"
   ]
  },
  {
   "cell_type": "code",
   "execution_count": 2,
   "id": "fcbd1749-89ca-4cd2-852b-f023bc82c437",
   "metadata": {},
   "outputs": [],
   "source": [
    "# time complexity:O(rows * cols)\n",
    "# space complexity:O(rows * cols) \n",
    "\n",
    "def transpose(matrix):\n",
    "    rows = len(matrix)\n",
    "    cols = len(matrix[0])\n",
    "\n",
    "    transpose_matrix = [[0] * rows for _ in range(cols)]\n",
    "\n",
    "    for i in range(rows):\n",
    "        for j in range(cols):\n",
    "            transpose_matrix[j][i] = matrix[i][j]\n",
    "\n",
    "    return transpose_matrix"
   ]
  },
  {
   "cell_type": "code",
   "execution_count": 3,
   "id": "23cbc8f3-332e-42b6-a74e-d07825fca667",
   "metadata": {},
   "outputs": [
    {
     "name": "stdout",
     "output_type": "stream",
     "text": [
      "[[1, 4, 7], [2, 5, 8], [3, 6, 9]]\n"
     ]
    }
   ],
   "source": [
    "matrix = [[1, 2, 3], [4, 5, 6], [7, 8, 9]]\n",
    "transposed_matrix = transpose(matrix)\n",
    "print(transposed_matrix)"
   ]
  },
  {
   "cell_type": "code",
   "execution_count": null,
   "id": "a4dedc99-75fc-4fc4-a13b-7a47dd5f1974",
   "metadata": {},
   "outputs": [],
   "source": [
    "#Q4"
   ]
  },
  {
   "cell_type": "code",
   "execution_count": 4,
   "id": "e12b8f9f-8c2f-4304-9c91-778cdefefd53",
   "metadata": {},
   "outputs": [],
   "source": [
    "# time complexity:O(n log n)\n",
    "# space complexity : O(1)\n",
    "\n",
    "def arrayPairSum(nums):\n",
    "    nums.sort()\n",
    "    max_sum = 0\n",
    "    for i in range(0, len(nums), 2):\n",
    "        max_sum += nums[i]\n",
    "    return max_sum"
   ]
  },
  {
   "cell_type": "code",
   "execution_count": 5,
   "id": "b7d51fd0-7f80-4988-8155-717b9f27a8f2",
   "metadata": {},
   "outputs": [
    {
     "name": "stdout",
     "output_type": "stream",
     "text": [
      "4\n"
     ]
    }
   ],
   "source": [
    "nums = [1, 4, 3, 2]\n",
    "maximized_sum = arrayPairSum(nums)\n",
    "print(maximized_sum)"
   ]
  },
  {
   "cell_type": "code",
   "execution_count": 6,
   "id": "381b0ea1-961d-4dee-bce2-f07f79debc73",
   "metadata": {},
   "outputs": [],
   "source": [
    "#Q5"
   ]
  },
  {
   "cell_type": "code",
   "execution_count": 7,
   "id": "821b645b-e5b9-43be-bc4a-aed65abc3b51",
   "metadata": {},
   "outputs": [],
   "source": [
    "# time complexity : O(sqrt(n))\n",
    "# space complexity : O(1)\n",
    "\n",
    "def arrangeCoins(n):\n",
    "    k = 0\n",
    "    while (k * (k + 1)) // 2 <= n:\n",
    "        k += 1\n",
    "    return k - 1"
   ]
  },
  {
   "cell_type": "code",
   "execution_count": 8,
   "id": "f8394e2f-b923-4c6b-bfdd-4a8ecf085d12",
   "metadata": {},
   "outputs": [
    {
     "name": "stdout",
     "output_type": "stream",
     "text": [
      "2\n"
     ]
    }
   ],
   "source": [
    "n = 5\n",
    "complete_rows = arrangeCoins(n)\n",
    "print(complete_rows)"
   ]
  },
  {
   "cell_type": "code",
   "execution_count": 9,
   "id": "e21b4f20-af8a-4641-9112-ba0d1b502adb",
   "metadata": {},
   "outputs": [],
   "source": [
    "#Q6 "
   ]
  },
  {
   "cell_type": "code",
   "execution_count": 10,
   "id": "da76f732-21c6-4fac-99ee-c5c99d2279ff",
   "metadata": {},
   "outputs": [],
   "source": [
    "# time complexity :O(n)\n",
    "# space complexity :O(n)\n",
    "def sortedSquares(nums):\n",
    "    n = len(nums)\n",
    "    result = [0] * n\n",
    "    left = 0\n",
    "    right = n - 1\n",
    "    index = n - 1\n",
    "\n",
    "    while left <= right:\n",
    "        if abs(nums[left]) > abs(nums[right]):\n",
    "            result[index] = nums[left] * nums[left]\n",
    "            left += 1\n",
    "        else:\n",
    "            result[index] = nums[right] * nums[right]\n",
    "            right -= 1\n",
    "        index -= 1\n",
    "\n",
    "    return result"
   ]
  },
  {
   "cell_type": "code",
   "execution_count": 11,
   "id": "f103ca63-b709-4bcb-86cf-80e66a9ef0b9",
   "metadata": {},
   "outputs": [
    {
     "name": "stdout",
     "output_type": "stream",
     "text": [
      "[0, 1, 9, 16, 100]\n"
     ]
    }
   ],
   "source": [
    "nums = [-4, -1, 0, 3, 10]\n",
    "squared_nums = sortedSquares(nums)\n",
    "print(squared_nums)"
   ]
  },
  {
   "cell_type": "code",
   "execution_count": null,
   "id": "cbceb87f-6411-4660-93ea-b59918f2c84d",
   "metadata": {},
   "outputs": [],
   "source": [
    "#Q7"
   ]
  },
  {
   "cell_type": "code",
   "execution_count": 12,
   "id": "dff47cb4-adf8-4604-88f8-72ffa75a31e0",
   "metadata": {},
   "outputs": [],
   "source": [
    "# time complexity : O(k)\n",
    "# space complexity : O(1)\n",
    "\n",
    "\n",
    "def maxCount(m, n, ops):\n",
    "    min_a = m\n",
    "    min_b = n\n",
    "\n",
    "    for op in ops:\n",
    "        min_a = min(min_a, op[0])\n",
    "        min_b = min(min_b, op[1])\n",
    "\n",
    "    return min_a * min_b"
   ]
  },
  {
   "cell_type": "code",
   "execution_count": 13,
   "id": "738e1cf8-0295-4a92-aea8-141b7a1e0eba",
   "metadata": {},
   "outputs": [
    {
     "name": "stdout",
     "output_type": "stream",
     "text": [
      "4\n"
     ]
    }
   ],
   "source": [
    "m = 3\n",
    "n = 3\n",
    "ops = [[2, 2], [3, 3]]\n",
    "max_integers = maxCount(m, n, ops)\n",
    "print(max_integers)"
   ]
  },
  {
   "cell_type": "code",
   "execution_count": null,
   "id": "b96ed86d-a931-46b9-839d-6468d45507f4",
   "metadata": {},
   "outputs": [],
   "source": [
    "#Q8 "
   ]
  },
  {
   "cell_type": "code",
   "execution_count": 14,
   "id": "55e9a421-3052-410c-ac64-c5081b00d23b",
   "metadata": {},
   "outputs": [],
   "source": [
    "## time complexity : O(n)\n",
    "# space complexity :O(n)\n",
    "#\n",
    "def shuffle(nums, n):\n",
    "    result = []\n",
    "    i = 0\n",
    "    j = n\n",
    "\n",
    "    while i < n:\n",
    "        result.append(nums[i])\n",
    "        result.append(nums[j])\n",
    "        i += 1\n",
    "        j += 1\n",
    "\n",
    "    return result"
   ]
  },
  {
   "cell_type": "code",
   "execution_count": 15,
   "id": "691818e3-d7b1-440b-8007-9ca6a49eeb69",
   "metadata": {},
   "outputs": [
    {
     "name": "stdout",
     "output_type": "stream",
     "text": [
      "[2, 3, 5, 4, 1, 7]\n"
     ]
    }
   ],
   "source": [
    "nums = [2, 5, 1, 3, 4, 7]\n",
    "n = 3\n",
    "shuffled_nums = shuffle(nums, n)\n",
    "print(shuffled_nums)"
   ]
  },
  {
   "cell_type": "code",
   "execution_count": 16,
   "id": "4fbfe25f-d6b9-41cf-adce-6ce3828f9897",
   "metadata": {},
   "outputs": [],
   "source": [
    "#Q2 "
   ]
  },
  {
   "cell_type": "code",
   "execution_count": 17,
   "id": "c7f74895-6e99-4bec-9513-a83cb9c361a3",
   "metadata": {},
   "outputs": [],
   "source": [
    "# time complexity :O(n+m)\n",
    "#  space complexity :O(n+m)\n",
    "\n",
    "def findDisappearedNumbers(nums1, nums2):\n",
    "    set1 = set(nums1)\n",
    "    set2 = set(nums2)\n",
    "\n",
    "    answer1 = list(set1 - set2)\n",
    "    answer2 = list(set2 - set1)\n",
    "\n",
    "    return [answer1, answer2]"
   ]
  },
  {
   "cell_type": "code",
   "execution_count": 18,
   "id": "721eab87-5c49-4ed0-9518-051c7d75c1d3",
   "metadata": {},
   "outputs": [
    {
     "name": "stdout",
     "output_type": "stream",
     "text": [
      "[[1, 3], [4, 6]]\n"
     ]
    }
   ],
   "source": [
    "nums1 = [1, 2, 3]\n",
    "nums2 = [2, 4, 6]\n",
    "result = findDisappearedNumbers(nums1, nums2)\n",
    "print(result)"
   ]
  },
  {
   "cell_type": "code",
   "execution_count": null,
   "id": "33715e1b-ade1-4460-9ce9-ff3ff8bc4e36",
   "metadata": {},
   "outputs": [],
   "source": []
  },
  {
   "cell_type": "code",
   "execution_count": null,
   "id": "18d6fe5e-e4ed-4711-a18e-0e4604e6607c",
   "metadata": {},
   "outputs": [],
   "source": []
  },
  {
   "cell_type": "code",
   "execution_count": null,
   "id": "988c57b7-d0f1-4f1c-b02d-b4f0a7d6098c",
   "metadata": {},
   "outputs": [],
   "source": []
  }
 ],
 "metadata": {
  "kernelspec": {
   "display_name": "Python 3 (ipykernel)",
   "language": "python",
   "name": "python3"
  },
  "language_info": {
   "codemirror_mode": {
    "name": "ipython",
    "version": 3
   },
   "file_extension": ".py",
   "mimetype": "text/x-python",
   "name": "python",
   "nbconvert_exporter": "python",
   "pygments_lexer": "ipython3",
   "version": "3.10.6"
  }
 },
 "nbformat": 4,
 "nbformat_minor": 5
}
