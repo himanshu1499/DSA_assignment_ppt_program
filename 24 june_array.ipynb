{
 "cells": [
  {
   "cell_type": "code",
   "execution_count": null,
   "id": "d6d70cdf-59ea-45cd-a766-a0ba6ff85426",
   "metadata": {},
   "outputs": [],
   "source": [
    "#Q1"
   ]
  },
  {
   "cell_type": "code",
   "execution_count": 1,
   "id": "0914ee5c-09df-4285-a8f8-ddbfeaf88771",
   "metadata": {},
   "outputs": [],
   "source": [
    "def twoSum(nums, target):\n",
    "    complement_dict = {}\n",
    "\n",
    "    for i, num in enumerate(nums):\n",
    "        complement = target - num\n",
    "        if complement in complement_dict:\n",
    "            return [complement_dict[complement], i]\n",
    "        complement_dict[num] = i\n",
    "\n",
    "    return []\n",
    "\n",
    "\n"
   ]
  },
  {
   "cell_type": "code",
   "execution_count": 2,
   "id": "c7996549-3a08-4728-84a2-dd031b629072",
   "metadata": {},
   "outputs": [
    {
     "name": "stdout",
     "output_type": "stream",
     "text": [
      "[0, 1]\n"
     ]
    }
   ],
   "source": [
    "nums = [2, 7, 11, 15]\n",
    "target = 9\n",
    "result = twoSum(nums, target)\n",
    "print(result)"
   ]
  },
  {
   "cell_type": "code",
   "execution_count": null,
   "id": "1ec124a2-35bc-43d0-bbef-aa605942257e",
   "metadata": {},
   "outputs": [],
   "source": [
    "#Q3"
   ]
  },
  {
   "cell_type": "code",
   "execution_count": 3,
   "id": "960093b2-cf41-43e7-b4da-ea1eee3db5c4",
   "metadata": {},
   "outputs": [],
   "source": [
    "def searchInsert(nums, target):\n",
    "    left = 0\n",
    "    right = len(nums) - 1\n",
    "\n",
    "    while left <= right:\n",
    "        mid = (left + right) // 2\n",
    "\n",
    "        if nums[mid] == target:\n",
    "            return mid\n",
    "        elif nums[mid] < target:\n",
    "            left = mid + 1\n",
    "        else:\n",
    "            right = mid - 1\n",
    "\n",
    "    return left\n",
    "\n"
   ]
  },
  {
   "cell_type": "code",
   "execution_count": 4,
   "id": "6b27ce61-3d9b-4659-a74c-57de973fc833",
   "metadata": {},
   "outputs": [
    {
     "name": "stdout",
     "output_type": "stream",
     "text": [
      "2\n"
     ]
    }
   ],
   "source": [
    "# Example usage\n",
    "nums = [1, 3, 5, 6]\n",
    "target = 5\n",
    "index = searchInsert(nums, target)\n",
    "print(index)"
   ]
  },
  {
   "cell_type": "code",
   "execution_count": 5,
   "id": "8d9aca9b-d8f2-4726-92d1-97c4d119e6c9",
   "metadata": {},
   "outputs": [],
   "source": [
    "#Q2"
   ]
  },
  {
   "cell_type": "code",
   "execution_count": 6,
   "id": "10535593-b961-496a-8801-cda8345466cf",
   "metadata": {},
   "outputs": [],
   "source": [
    "# time complexity: O(n)\n",
    "# space complexity: O(1)\n",
    "\n",
    "def removeElement(nums, val):\n",
    "    k = 0\n",
    "\n",
    "    for i in range(len(nums)):\n",
    "        if nums[i] != val:\n",
    "            nums[k] = nums[i]\n",
    "            k += 1\n",
    "\n",
    "    return k"
   ]
  },
  {
   "cell_type": "code",
   "execution_count": 7,
   "id": "75a42e99-6f0a-4468-9a08-76f758099ec1",
   "metadata": {},
   "outputs": [
    {
     "name": "stdout",
     "output_type": "stream",
     "text": [
      "[2, 2]\n",
      "2\n"
     ]
    }
   ],
   "source": [
    "nums = [3, 2, 2, 3]\n",
    "val = 3\n",
    "k = removeElement(nums, val)\n",
    "print(nums[:k])  # Print the modified array with the remaining elements\n",
    "print(k)        # Print the number of remaining elements"
   ]
  },
  {
   "cell_type": "code",
   "execution_count": 8,
   "id": "bfa95729-349c-416d-a5f9-c8970b5eb1e4",
   "metadata": {},
   "outputs": [],
   "source": [
    "#Q4 "
   ]
  },
  {
   "cell_type": "code",
   "execution_count": 9,
   "id": "824665db-a61e-4511-bf8c-cd856e260a77",
   "metadata": {},
   "outputs": [],
   "source": [
    "# time complexity: O(n)\n",
    "# space complexity: O(1)\n",
    "\n",
    "def plusOne(digits):\n",
    "    n = len(digits)\n",
    "    carry = 1\n",
    "\n",
    "    for i in range(n - 1, -1, -1):\n",
    "        digits[i] += carry\n",
    "        carry = digits[i] // 10\n",
    "        digits[i] %= 10\n",
    "\n",
    "    if carry:\n",
    "        digits.insert(0, carry)\n",
    "\n",
    "    return digits"
   ]
  },
  {
   "cell_type": "code",
   "execution_count": 10,
   "id": "a474d652-e51e-48fc-bca7-866440bb891c",
   "metadata": {},
   "outputs": [
    {
     "name": "stdout",
     "output_type": "stream",
     "text": [
      "[1, 2, 4]\n"
     ]
    }
   ],
   "source": [
    "digits = [1, 2, 3]\n",
    "result = plusOne(digits)\n",
    "print(result)"
   ]
  },
  {
   "cell_type": "code",
   "execution_count": 11,
   "id": "3b26a974-bca6-4e54-a548-a34db7d051b2",
   "metadata": {},
   "outputs": [],
   "source": [
    "#Q5"
   ]
  },
  {
   "cell_type": "code",
   "execution_count": 12,
   "id": "7fa19190-6415-4a83-bb09-5573d6af1011",
   "metadata": {},
   "outputs": [],
   "source": [
    "# time complexity: O(m+n)\n",
    "# space complexity: O(1)\n",
    "\n",
    "def merge(nums1, m, nums2, n):\n",
    "    p1 = m - 1\n",
    "    p2 = n - 1\n",
    "    p = m + n - 1\n",
    "\n",
    "    while p1 >= 0 and p2 >= 0:\n",
    "        if nums1[p1] >= nums2[p2]:\n",
    "            nums1[p] = nums1[p1]\n",
    "            p1 -= 1\n",
    "        else:\n",
    "            nums1[p] = nums2[p2]\n",
    "            p2 -= 1\n",
    "        p -= 1\n",
    "\n",
    "    while p2 >= 0:\n",
    "        nums1[p] = nums2[p2]\n",
    "        p2 -= 1\n",
    "        p -= 1"
   ]
  },
  {
   "cell_type": "code",
   "execution_count": 13,
   "id": "dd0dcbf3-ba38-4819-943a-be04a381dbb5",
   "metadata": {},
   "outputs": [
    {
     "name": "stdout",
     "output_type": "stream",
     "text": [
      "[1, 2, 2, 3, 5, 6]\n"
     ]
    }
   ],
   "source": [
    "nums1 = [1, 2, 3, 0, 0, 0]\n",
    "m = 3\n",
    "nums2 = [2, 5, 6]\n",
    "n = 3\n",
    "merge(nums1, m, nums2, n)\n",
    "print(nums1)"
   ]
  },
  {
   "cell_type": "code",
   "execution_count": 14,
   "id": "cac0b0fb-6922-4f98-8b28-383e77188386",
   "metadata": {},
   "outputs": [],
   "source": [
    "#Q6"
   ]
  },
  {
   "cell_type": "code",
   "execution_count": 15,
   "id": "cf7f9640-01b1-487c-a728-73a6da916b20",
   "metadata": {},
   "outputs": [],
   "source": [
    "# time complexity: O(n)\n",
    "# space complexity: O(1)\n",
    "\n",
    "def containsDuplicate(nums):\n",
    "    seen = set()\n",
    "\n",
    "    for num in nums:\n",
    "        if num in seen:\n",
    "            return True\n",
    "        seen.add(num)\n",
    "\n",
    "    return False"
   ]
  },
  {
   "cell_type": "code",
   "execution_count": 16,
   "id": "5bb41b48-8734-4dc3-a15a-6b6ab40d282e",
   "metadata": {},
   "outputs": [
    {
     "name": "stdout",
     "output_type": "stream",
     "text": [
      "True\n"
     ]
    }
   ],
   "source": [
    "nums = [1, 2, 3, 1]\n",
    "result = containsDuplicate(nums)\n",
    "print(result)"
   ]
  },
  {
   "cell_type": "code",
   "execution_count": null,
   "id": "07a8ebbb-1ceb-4378-af3f-5563fea58ca2",
   "metadata": {},
   "outputs": [],
   "source": [
    "#Q7"
   ]
  },
  {
   "cell_type": "code",
   "execution_count": 17,
   "id": "7dff6e55-4271-4047-beaa-d85adbf9a780",
   "metadata": {},
   "outputs": [],
   "source": [
    "def moveZeroes(nums):\n",
    "    n = len(nums)\n",
    "    zero_ptr = 0\n",
    "\n",
    "    for i in range(n):\n",
    "        if nums[i] != 0:\n",
    "            nums[i], nums[zero_ptr] = nums[zero_ptr], nums[i]\n",
    "            zero_ptr += 1"
   ]
  },
  {
   "cell_type": "code",
   "execution_count": 18,
   "id": "1ff19e98-f813-45d1-b204-524abac8f7f0",
   "metadata": {},
   "outputs": [
    {
     "name": "stdout",
     "output_type": "stream",
     "text": [
      "[1, 3, 12, 0, 0]\n"
     ]
    }
   ],
   "source": [
    "nums = [0, 1, 0, 3, 12]\n",
    "moveZeroes(nums)\n",
    "print(nums)"
   ]
  },
  {
   "cell_type": "code",
   "execution_count": null,
   "id": "ce2876df-0a9b-4e73-bdfc-eb1a598b05ae",
   "metadata": {},
   "outputs": [],
   "source": [
    "#Q8"
   ]
  },
  {
   "cell_type": "code",
   "execution_count": 19,
   "id": "85e39232-51ef-4620-92dd-fcff0858148f",
   "metadata": {},
   "outputs": [],
   "source": [
    "\n",
    "\n",
    "def findErrorNums(nums):\n",
    "    n = len(nums)\n",
    "    xor = 0\n",
    "    for i in range(1, n + 1):\n",
    "        xor ^= i\n",
    "\n",
    "    for num in nums:\n",
    "        xor ^= num\n",
    "\n",
    "    # Find the rightmost set bit in xor\n",
    "    rightmost_set_bit = xor & -xor\n",
    "\n",
    "    num1 = 0\n",
    "    num2 = 0\n",
    "    for num in nums:\n",
    "        if num & rightmost_set_bit:\n",
    "            num1 ^= num\n",
    "        else:\n",
    "            num2 ^= num\n",
    "\n",
    "    for i in range(1, n + 1):\n",
    "        if i & rightmost_set_bit:\n",
    "            num1 ^= i\n",
    "        else:\n",
    "            num2 ^= i\n",
    "\n",
    "    for num in nums:\n",
    "        if num == num1:\n",
    "            return [num1, num2]\n",
    "    return [num2, num1]"
   ]
  },
  {
   "cell_type": "code",
   "execution_count": 20,
   "id": "ea2b61d0-d47b-43ca-ac20-e4501eae75b1",
   "metadata": {},
   "outputs": [
    {
     "name": "stdout",
     "output_type": "stream",
     "text": [
      "[2, 3]\n"
     ]
    }
   ],
   "source": [
    "nums = [1, 2, 2, 4]\n",
    "result = findErrorNums(nums)\n",
    "print(result)"
   ]
  },
  {
   "cell_type": "code",
   "execution_count": null,
   "id": "805eab37-b4e2-4b25-8c4d-da67dd0b85af",
   "metadata": {},
   "outputs": [],
   "source": []
  }
 ],
 "metadata": {
  "kernelspec": {
   "display_name": "Python 3 (ipykernel)",
   "language": "python",
   "name": "python3"
  },
  "language_info": {
   "codemirror_mode": {
    "name": "ipython",
    "version": 3
   },
   "file_extension": ".py",
   "mimetype": "text/x-python",
   "name": "python",
   "nbconvert_exporter": "python",
   "pygments_lexer": "ipython3",
   "version": "3.10.6"
  }
 },
 "nbformat": 4,
 "nbformat_minor": 5
}
